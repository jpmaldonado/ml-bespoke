{
 "cells": [
  {
   "cell_type": "code",
   "execution_count": 1,
   "id": "415ae872",
   "metadata": {},
   "outputs": [],
   "source": [
    "import pandas as pd"
   ]
  },
  {
   "cell_type": "code",
   "execution_count": 2,
   "id": "b3b24d8e",
   "metadata": {},
   "outputs": [],
   "source": [
    "df = pd.read_csv(\"../data/spotify-2023.csv\", encoding='ISO-8859-1')"
   ]
  },
  {
   "cell_type": "code",
   "execution_count": 3,
   "id": "7c62ad39",
   "metadata": {},
   "outputs": [
    {
     "data": {
      "text/html": [
       "<div>\n",
       "<style scoped>\n",
       "    .dataframe tbody tr th:only-of-type {\n",
       "        vertical-align: middle;\n",
       "    }\n",
       "\n",
       "    .dataframe tbody tr th {\n",
       "        vertical-align: top;\n",
       "    }\n",
       "\n",
       "    .dataframe thead th {\n",
       "        text-align: right;\n",
       "    }\n",
       "</style>\n",
       "<table border=\"1\" class=\"dataframe\">\n",
       "  <thead>\n",
       "    <tr style=\"text-align: right;\">\n",
       "      <th></th>\n",
       "      <th>track_name</th>\n",
       "      <th>artist(s)_name</th>\n",
       "      <th>artist_count</th>\n",
       "      <th>released_year</th>\n",
       "      <th>released_month</th>\n",
       "      <th>released_day</th>\n",
       "      <th>in_spotify_playlists</th>\n",
       "      <th>in_spotify_charts</th>\n",
       "      <th>streams</th>\n",
       "      <th>in_apple_playlists</th>\n",
       "      <th>...</th>\n",
       "      <th>bpm</th>\n",
       "      <th>key</th>\n",
       "      <th>mode</th>\n",
       "      <th>danceability_%</th>\n",
       "      <th>valence_%</th>\n",
       "      <th>energy_%</th>\n",
       "      <th>acousticness_%</th>\n",
       "      <th>instrumentalness_%</th>\n",
       "      <th>liveness_%</th>\n",
       "      <th>speechiness_%</th>\n",
       "    </tr>\n",
       "  </thead>\n",
       "  <tbody>\n",
       "    <tr>\n",
       "      <th>0</th>\n",
       "      <td>Seven (feat. Latto) (Explicit Ver.)</td>\n",
       "      <td>Latto, Jung Kook</td>\n",
       "      <td>2</td>\n",
       "      <td>2023</td>\n",
       "      <td>7</td>\n",
       "      <td>14</td>\n",
       "      <td>553</td>\n",
       "      <td>147</td>\n",
       "      <td>141381703</td>\n",
       "      <td>43</td>\n",
       "      <td>...</td>\n",
       "      <td>125</td>\n",
       "      <td>B</td>\n",
       "      <td>Major</td>\n",
       "      <td>80</td>\n",
       "      <td>89</td>\n",
       "      <td>83</td>\n",
       "      <td>31</td>\n",
       "      <td>0</td>\n",
       "      <td>8</td>\n",
       "      <td>4</td>\n",
       "    </tr>\n",
       "    <tr>\n",
       "      <th>1</th>\n",
       "      <td>LALA</td>\n",
       "      <td>Myke Towers</td>\n",
       "      <td>1</td>\n",
       "      <td>2023</td>\n",
       "      <td>3</td>\n",
       "      <td>23</td>\n",
       "      <td>1474</td>\n",
       "      <td>48</td>\n",
       "      <td>133716286</td>\n",
       "      <td>48</td>\n",
       "      <td>...</td>\n",
       "      <td>92</td>\n",
       "      <td>C#</td>\n",
       "      <td>Major</td>\n",
       "      <td>71</td>\n",
       "      <td>61</td>\n",
       "      <td>74</td>\n",
       "      <td>7</td>\n",
       "      <td>0</td>\n",
       "      <td>10</td>\n",
       "      <td>4</td>\n",
       "    </tr>\n",
       "    <tr>\n",
       "      <th>2</th>\n",
       "      <td>vampire</td>\n",
       "      <td>Olivia Rodrigo</td>\n",
       "      <td>1</td>\n",
       "      <td>2023</td>\n",
       "      <td>6</td>\n",
       "      <td>30</td>\n",
       "      <td>1397</td>\n",
       "      <td>113</td>\n",
       "      <td>140003974</td>\n",
       "      <td>94</td>\n",
       "      <td>...</td>\n",
       "      <td>138</td>\n",
       "      <td>F</td>\n",
       "      <td>Major</td>\n",
       "      <td>51</td>\n",
       "      <td>32</td>\n",
       "      <td>53</td>\n",
       "      <td>17</td>\n",
       "      <td>0</td>\n",
       "      <td>31</td>\n",
       "      <td>6</td>\n",
       "    </tr>\n",
       "    <tr>\n",
       "      <th>3</th>\n",
       "      <td>Cruel Summer</td>\n",
       "      <td>Taylor Swift</td>\n",
       "      <td>1</td>\n",
       "      <td>2019</td>\n",
       "      <td>8</td>\n",
       "      <td>23</td>\n",
       "      <td>7858</td>\n",
       "      <td>100</td>\n",
       "      <td>800840817</td>\n",
       "      <td>116</td>\n",
       "      <td>...</td>\n",
       "      <td>170</td>\n",
       "      <td>A</td>\n",
       "      <td>Major</td>\n",
       "      <td>55</td>\n",
       "      <td>58</td>\n",
       "      <td>72</td>\n",
       "      <td>11</td>\n",
       "      <td>0</td>\n",
       "      <td>11</td>\n",
       "      <td>15</td>\n",
       "    </tr>\n",
       "    <tr>\n",
       "      <th>4</th>\n",
       "      <td>WHERE SHE GOES</td>\n",
       "      <td>Bad Bunny</td>\n",
       "      <td>1</td>\n",
       "      <td>2023</td>\n",
       "      <td>5</td>\n",
       "      <td>18</td>\n",
       "      <td>3133</td>\n",
       "      <td>50</td>\n",
       "      <td>303236322</td>\n",
       "      <td>84</td>\n",
       "      <td>...</td>\n",
       "      <td>144</td>\n",
       "      <td>A</td>\n",
       "      <td>Minor</td>\n",
       "      <td>65</td>\n",
       "      <td>23</td>\n",
       "      <td>80</td>\n",
       "      <td>14</td>\n",
       "      <td>63</td>\n",
       "      <td>11</td>\n",
       "      <td>6</td>\n",
       "    </tr>\n",
       "  </tbody>\n",
       "</table>\n",
       "<p>5 rows × 24 columns</p>\n",
       "</div>"
      ],
      "text/plain": [
       "                            track_name    artist(s)_name  artist_count  \\\n",
       "0  Seven (feat. Latto) (Explicit Ver.)  Latto, Jung Kook             2   \n",
       "1                                 LALA       Myke Towers             1   \n",
       "2                              vampire    Olivia Rodrigo             1   \n",
       "3                         Cruel Summer      Taylor Swift             1   \n",
       "4                       WHERE SHE GOES         Bad Bunny             1   \n",
       "\n",
       "   released_year  released_month  released_day  in_spotify_playlists  \\\n",
       "0           2023               7            14                   553   \n",
       "1           2023               3            23                  1474   \n",
       "2           2023               6            30                  1397   \n",
       "3           2019               8            23                  7858   \n",
       "4           2023               5            18                  3133   \n",
       "\n",
       "   in_spotify_charts    streams  in_apple_playlists  ...  bpm key   mode  \\\n",
       "0                147  141381703                  43  ...  125   B  Major   \n",
       "1                 48  133716286                  48  ...   92  C#  Major   \n",
       "2                113  140003974                  94  ...  138   F  Major   \n",
       "3                100  800840817                 116  ...  170   A  Major   \n",
       "4                 50  303236322                  84  ...  144   A  Minor   \n",
       "\n",
       "  danceability_%  valence_% energy_% acousticness_%  instrumentalness_%  \\\n",
       "0             80         89       83             31                   0   \n",
       "1             71         61       74              7                   0   \n",
       "2             51         32       53             17                   0   \n",
       "3             55         58       72             11                   0   \n",
       "4             65         23       80             14                  63   \n",
       "\n",
       "   liveness_%  speechiness_%  \n",
       "0           8              4  \n",
       "1          10              4  \n",
       "2          31              6  \n",
       "3          11             15  \n",
       "4          11              6  \n",
       "\n",
       "[5 rows x 24 columns]"
      ]
     },
     "execution_count": 3,
     "metadata": {},
     "output_type": "execute_result"
    }
   ],
   "source": [
    "df.head()"
   ]
  },
  {
   "cell_type": "code",
   "execution_count": 4,
   "id": "c3065111",
   "metadata": {},
   "outputs": [
    {
     "data": {
      "text/plain": [
       "Index(['track_name', 'artist(s)_name', 'artist_count', 'released_year',\n",
       "       'released_month', 'released_day', 'in_spotify_playlists',\n",
       "       'in_spotify_charts', 'streams', 'in_apple_playlists', 'in_apple_charts',\n",
       "       'in_deezer_playlists', 'in_deezer_charts', 'in_shazam_charts', 'bpm',\n",
       "       'key', 'mode', 'danceability_%', 'valence_%', 'energy_%',\n",
       "       'acousticness_%', 'instrumentalness_%', 'liveness_%', 'speechiness_%'],\n",
       "      dtype='object')"
      ]
     },
     "execution_count": 4,
     "metadata": {},
     "output_type": "execute_result"
    }
   ],
   "source": [
    "df.columns"
   ]
  },
  {
   "cell_type": "code",
   "execution_count": 5,
   "id": "1abaef23",
   "metadata": {},
   "outputs": [],
   "source": [
    "X = df[['danceability_%', 'valence_%', 'energy_%','acousticness_%']] #, 'instrumentalness_%', 'liveness_%', 'speechiness_%']]"
   ]
  },
  {
   "cell_type": "code",
   "execution_count": 6,
   "id": "871f78e2",
   "metadata": {},
   "outputs": [],
   "source": [
    "y = df['in_spotify_playlists']"
   ]
  },
  {
   "cell_type": "code",
   "execution_count": 7,
   "id": "4de0507c",
   "metadata": {},
   "outputs": [],
   "source": [
    "from sklearn.model_selection import train_test_split"
   ]
  },
  {
   "cell_type": "code",
   "execution_count": 8,
   "id": "9dd752c7",
   "metadata": {},
   "outputs": [],
   "source": [
    "X_train, X_test, y_train, y_test = train_test_split(X, y, train_size=0.8, random_state=123)"
   ]
  },
  {
   "cell_type": "code",
   "execution_count": 9,
   "id": "f71c13e0",
   "metadata": {},
   "outputs": [
    {
     "data": {
      "text/plain": [
       "(953, 4)"
      ]
     },
     "execution_count": 9,
     "metadata": {},
     "output_type": "execute_result"
    }
   ],
   "source": [
    "X.shape"
   ]
  },
  {
   "cell_type": "code",
   "execution_count": 10,
   "id": "f547cd6d",
   "metadata": {},
   "outputs": [
    {
     "data": {
      "text/plain": [
       "(762, 4)"
      ]
     },
     "execution_count": 10,
     "metadata": {},
     "output_type": "execute_result"
    }
   ],
   "source": [
    "X_train.shape"
   ]
  },
  {
   "cell_type": "code",
   "execution_count": 11,
   "id": "ca30dbb3",
   "metadata": {},
   "outputs": [
    {
     "data": {
      "text/plain": [
       "(191, 4)"
      ]
     },
     "execution_count": 11,
     "metadata": {},
     "output_type": "execute_result"
    }
   ],
   "source": [
    "X_test.shape"
   ]
  },
  {
   "cell_type": "code",
   "execution_count": 12,
   "id": "8fb2a041",
   "metadata": {},
   "outputs": [],
   "source": [
    "from sklearn.linear_model import LinearRegression"
   ]
  },
  {
   "cell_type": "code",
   "execution_count": 13,
   "id": "37152c95",
   "metadata": {},
   "outputs": [],
   "source": [
    "lr = LinearRegression()"
   ]
  },
  {
   "cell_type": "code",
   "execution_count": 14,
   "id": "8b2a0ba5",
   "metadata": {},
   "outputs": [
    {
     "data": {
      "text/html": [
       "<style>#sk-container-id-1 {color: black;}#sk-container-id-1 pre{padding: 0;}#sk-container-id-1 div.sk-toggleable {background-color: white;}#sk-container-id-1 label.sk-toggleable__label {cursor: pointer;display: block;width: 100%;margin-bottom: 0;padding: 0.3em;box-sizing: border-box;text-align: center;}#sk-container-id-1 label.sk-toggleable__label-arrow:before {content: \"▸\";float: left;margin-right: 0.25em;color: #696969;}#sk-container-id-1 label.sk-toggleable__label-arrow:hover:before {color: black;}#sk-container-id-1 div.sk-estimator:hover label.sk-toggleable__label-arrow:before {color: black;}#sk-container-id-1 div.sk-toggleable__content {max-height: 0;max-width: 0;overflow: hidden;text-align: left;background-color: #f0f8ff;}#sk-container-id-1 div.sk-toggleable__content pre {margin: 0.2em;color: black;border-radius: 0.25em;background-color: #f0f8ff;}#sk-container-id-1 input.sk-toggleable__control:checked~div.sk-toggleable__content {max-height: 200px;max-width: 100%;overflow: auto;}#sk-container-id-1 input.sk-toggleable__control:checked~label.sk-toggleable__label-arrow:before {content: \"▾\";}#sk-container-id-1 div.sk-estimator input.sk-toggleable__control:checked~label.sk-toggleable__label {background-color: #d4ebff;}#sk-container-id-1 div.sk-label input.sk-toggleable__control:checked~label.sk-toggleable__label {background-color: #d4ebff;}#sk-container-id-1 input.sk-hidden--visually {border: 0;clip: rect(1px 1px 1px 1px);clip: rect(1px, 1px, 1px, 1px);height: 1px;margin: -1px;overflow: hidden;padding: 0;position: absolute;width: 1px;}#sk-container-id-1 div.sk-estimator {font-family: monospace;background-color: #f0f8ff;border: 1px dotted black;border-radius: 0.25em;box-sizing: border-box;margin-bottom: 0.5em;}#sk-container-id-1 div.sk-estimator:hover {background-color: #d4ebff;}#sk-container-id-1 div.sk-parallel-item::after {content: \"\";width: 100%;border-bottom: 1px solid gray;flex-grow: 1;}#sk-container-id-1 div.sk-label:hover label.sk-toggleable__label {background-color: #d4ebff;}#sk-container-id-1 div.sk-serial::before {content: \"\";position: absolute;border-left: 1px solid gray;box-sizing: border-box;top: 0;bottom: 0;left: 50%;z-index: 0;}#sk-container-id-1 div.sk-serial {display: flex;flex-direction: column;align-items: center;background-color: white;padding-right: 0.2em;padding-left: 0.2em;position: relative;}#sk-container-id-1 div.sk-item {position: relative;z-index: 1;}#sk-container-id-1 div.sk-parallel {display: flex;align-items: stretch;justify-content: center;background-color: white;position: relative;}#sk-container-id-1 div.sk-item::before, #sk-container-id-1 div.sk-parallel-item::before {content: \"\";position: absolute;border-left: 1px solid gray;box-sizing: border-box;top: 0;bottom: 0;left: 50%;z-index: -1;}#sk-container-id-1 div.sk-parallel-item {display: flex;flex-direction: column;z-index: 1;position: relative;background-color: white;}#sk-container-id-1 div.sk-parallel-item:first-child::after {align-self: flex-end;width: 50%;}#sk-container-id-1 div.sk-parallel-item:last-child::after {align-self: flex-start;width: 50%;}#sk-container-id-1 div.sk-parallel-item:only-child::after {width: 0;}#sk-container-id-1 div.sk-dashed-wrapped {border: 1px dashed gray;margin: 0 0.4em 0.5em 0.4em;box-sizing: border-box;padding-bottom: 0.4em;background-color: white;}#sk-container-id-1 div.sk-label label {font-family: monospace;font-weight: bold;display: inline-block;line-height: 1.2em;}#sk-container-id-1 div.sk-label-container {text-align: center;}#sk-container-id-1 div.sk-container {/* jupyter's `normalize.less` sets `[hidden] { display: none; }` but bootstrap.min.css set `[hidden] { display: none !important; }` so we also need the `!important` here to be able to override the default hidden behavior on the sphinx rendered scikit-learn.org. See: https://github.com/scikit-learn/scikit-learn/issues/21755 */display: inline-block !important;position: relative;}#sk-container-id-1 div.sk-text-repr-fallback {display: none;}</style><div id=\"sk-container-id-1\" class=\"sk-top-container\"><div class=\"sk-text-repr-fallback\"><pre>LinearRegression()</pre><b>In a Jupyter environment, please rerun this cell to show the HTML representation or trust the notebook. <br />On GitHub, the HTML representation is unable to render, please try loading this page with nbviewer.org.</b></div><div class=\"sk-container\" hidden><div class=\"sk-item\"><div class=\"sk-estimator sk-toggleable\"><input class=\"sk-toggleable__control sk-hidden--visually\" id=\"sk-estimator-id-1\" type=\"checkbox\" checked><label for=\"sk-estimator-id-1\" class=\"sk-toggleable__label sk-toggleable__label-arrow\">LinearRegression</label><div class=\"sk-toggleable__content\"><pre>LinearRegression()</pre></div></div></div></div></div>"
      ],
      "text/plain": [
       "LinearRegression()"
      ]
     },
     "execution_count": 14,
     "metadata": {},
     "output_type": "execute_result"
    }
   ],
   "source": [
    "lr.fit(X_train, y_train)"
   ]
  },
  {
   "cell_type": "code",
   "execution_count": 15,
   "id": "d4e52d15",
   "metadata": {},
   "outputs": [
    {
     "data": {
      "text/plain": [
       "array([-74.3649582 ,  15.41107341,   6.72552175, -20.77801621])"
      ]
     },
     "execution_count": 15,
     "metadata": {},
     "output_type": "execute_result"
    }
   ],
   "source": [
    "lr.coef_"
   ]
  },
  {
   "cell_type": "code",
   "execution_count": 16,
   "id": "856f2bcc",
   "metadata": {},
   "outputs": [],
   "source": [
    "y_pred = lr.predict(X_test)"
   ]
  },
  {
   "cell_type": "code",
   "execution_count": 17,
   "id": "dc5362ea",
   "metadata": {},
   "outputs": [],
   "source": [
    "from sklearn.metrics import mean_squared_error"
   ]
  },
  {
   "cell_type": "code",
   "execution_count": 18,
   "id": "a06887c0",
   "metadata": {},
   "outputs": [
    {
     "data": {
      "text/plain": [
       "57975600.46607442"
      ]
     },
     "execution_count": 18,
     "metadata": {},
     "output_type": "execute_result"
    }
   ],
   "source": [
    "mean_squared_error(y_pred, y_test)"
   ]
  },
  {
   "cell_type": "code",
   "execution_count": 19,
   "id": "40b6d291",
   "metadata": {},
   "outputs": [
    {
     "data": {
      "text/plain": [
       "0.025495408362182115"
      ]
     },
     "execution_count": 19,
     "metadata": {},
     "output_type": "execute_result"
    }
   ],
   "source": [
    "lr.score(X_test, y_test) \n",
    "\n",
    "#R2: Comparison of a constant prediction vs current model. \n",
    "# R2 is between 0 and 1, best possible result is 1. \n",
    "# Negative R2 => worse than a constant prediction."
   ]
  },
  {
   "cell_type": "markdown",
   "id": "cb381e4e",
   "metadata": {},
   "source": [
    "## EXERCISE\n",
    "\n",
    "- Try KNeighborsRegressor (in sklearn.neighbors) with different values of n_neighbors. Can we find a better model?\n",
    "- Challenge: Try to do it in a loop."
   ]
  },
  {
   "cell_type": "code",
   "execution_count": 20,
   "id": "bd8fcd09",
   "metadata": {},
   "outputs": [],
   "source": [
    "from sklearn.neighbors import KNeighborsRegressor"
   ]
  },
  {
   "cell_type": "code",
   "execution_count": 21,
   "id": "38cc46a8",
   "metadata": {},
   "outputs": [],
   "source": [
    "num_neighbors = range(3,100)\n",
    "scores = []\n",
    "for n in num_neighbors:\n",
    "    knn = KNeighborsRegressor(n_neighbors=n, metric='cosine')\n",
    "    knn.fit(X_train,y_train)\n",
    "    score = knn.score(X_test, y_test)\n",
    "    scores.append(score)"
   ]
  },
  {
   "cell_type": "code",
   "execution_count": 22,
   "id": "07a6ad58",
   "metadata": {},
   "outputs": [],
   "source": [
    "import matplotlib.pyplot as plt"
   ]
  },
  {
   "cell_type": "code",
   "execution_count": 23,
   "id": "95426f0f",
   "metadata": {},
   "outputs": [
    {
     "data": {
      "text/plain": [
       "Text(0, 0.5, 'R2 error')"
      ]
     },
     "execution_count": 23,
     "metadata": {},
     "output_type": "execute_result"
    },
    {
     "data": {
      "image/png": "[encoded data removed]",
      "text/plain": [
       "<Figure size 432x288 with 1 Axes>"
      ]
     },
     "metadata": {
      "needs_background": "light"
     },
     "output_type": "display_data"
    }
   ],
   "source": [
    "plt.plot(num_neighbors,scores)\n",
    "plt.xlabel('Number of neighbors')\n",
    "plt.ylabel('R2 error')"
   ]
  },
  {
   "cell_type": "code",
   "execution_count": 24,
   "id": "0c36ecb4",
   "metadata": {},
   "outputs": [
    {
     "data": {
      "text/plain": [
       "[0.019758790574138985,\n",
       " 0.017562192484084305,\n",
       " 0.014324614299127791,\n",
       " 0.015718282712635867,\n",
       " 0.012746810914101347,\n",
       " 0.011206609316458671,\n",
       " 0.008470747025840275,\n",
       " 0.0026810173618380118]"
      ]
     },
     "execution_count": 24,
     "metadata": {},
     "output_type": "execute_result"
    }
   ],
   "source": [
    "scores[27:35]"
   ]
  },
  {
   "cell_type": "code",
   "execution_count": 25,
   "id": "4f896d42",
   "metadata": {},
   "outputs": [
    {
     "data": {
      "text/plain": [
       "array([[<AxesSubplot:title={'center':'danceability_%'}>,\n",
       "        <AxesSubplot:title={'center':'valence_%'}>],\n",
       "       [<AxesSubplot:title={'center':'energy_%'}>,\n",
       "        <AxesSubplot:title={'center':'acousticness_%'}>]], dtype=object)"
      ]
     },
     "execution_count": 25,
     "metadata": {},
     "output_type": "execute_result"
    },
    {
     "data": {
      "image/png": "[encoded data removed]",
      "text/plain": [
       "<Figure size 432x288 with 4 Axes>"
      ]
     },
     "metadata": {
      "needs_background": "light"
     },
     "output_type": "display_data"
    }
   ],
   "source": [
    "X.hist()"
   ]
  },
  {
   "cell_type": "markdown",
   "id": "8e81d2e1",
   "metadata": {},
   "source": [
    "## Learning curve"
   ]
  },
  {
   "cell_type": "code",
   "execution_count": 26,
   "id": "6b857032",
   "metadata": {},
   "outputs": [],
   "source": [
    "from sklearn.model_selection import learning_curve"
   ]
  },
  {
   "cell_type": "code",
   "execution_count": 27,
   "id": "60d090bb",
   "metadata": {},
   "outputs": [],
   "source": [
    "knn = KNeighborsRegressor(n_neighbors=10)"
   ]
  },
  {
   "cell_type": "code",
   "execution_count": 28,
   "id": "cc4295d0",
   "metadata": {},
   "outputs": [],
   "source": [
    "train_size, train_scores, test_scores = learning_curve(knn, X_train, y_train)"
   ]
  },
  {
   "cell_type": "code",
   "execution_count": 29,
   "id": "d8178475",
   "metadata": {},
   "outputs": [],
   "source": [
    "avg_train_scores = train_scores.mean(axis=1)\n",
    "avg_test_scores = test_scores.mean(axis=1)"
   ]
  },
  {
   "cell_type": "code",
   "execution_count": 30,
   "id": "ef7eda05",
   "metadata": {},
   "outputs": [
    {
     "data": {
      "text/plain": [
       "Text(0, 0.5, 'Model score')"
      ]
     },
     "execution_count": 30,
     "metadata": {},
     "output_type": "execute_result"
    },
    {
     "data": {
      "image/png": "[encoded data removed]",
      "text/plain": [
       "<Figure size 432x288 with 1 Axes>"
      ]
     },
     "metadata": {
      "needs_background": "light"
     },
     "output_type": "display_data"
    }
   ],
   "source": [
    "plt.plot(train_size, avg_train_scores)\n",
    "plt.plot(train_size, avg_test_scores, 'r')\n",
    "plt.xlabel('Size of training data')\n",
    "plt.ylabel('Model score')"
   ]
  },
  {
   "cell_type": "markdown",
   "id": "bd83df6f",
   "metadata": {},
   "source": [
    "**Note:** We see that the training score shown in blue above is quite low (R2 should be close to 1 for a model to be acceptable). There is also a gap between the training and testing score (shown in red). This gap means that we would need to add more data, as it has not enough variance to assign the correct labels."
   ]
  },
  {
   "cell_type": "code",
   "execution_count": 32,
   "id": "5050958c",
   "metadata": {},
   "outputs": [
    {
     "data": {
      "text/plain": [
       "array([[0.2325138 , 0.1294286 , 0.1294286 , 0.1294286 , 0.1294286 ],\n",
       "       [0.12675727, 0.14880027, 0.21228913, 0.21228913, 0.21228913],\n",
       "       [0.08206706, 0.14200267, 0.18348675, 0.16216482, 0.16216482],\n",
       "       [0.11232965, 0.12924131, 0.15119529, 0.14859335, 0.14565477],\n",
       "       [0.10778776, 0.10705965, 0.13717289, 0.1128416 , 0.12739146]])"
      ]
     },
     "execution_count": 32,
     "metadata": {},
     "output_type": "execute_result"
    }
   ],
   "source": [
    "train_scores"
   ]
  },
  {
   "cell_type": "code",
   "execution_count": 33,
   "id": "78b5f040",
   "metadata": {},
   "outputs": [
    {
     "data": {
      "text/plain": [
       "array([0.15004564, 0.18248498, 0.14637722, 0.13740287, 0.11845067])"
      ]
     },
     "execution_count": 33,
     "metadata": {},
     "output_type": "execute_result"
    }
   ],
   "source": [
    "avg_train_scores"
   ]
  },
  {
   "cell_type": "code",
   "execution_count": 34,
   "id": "1b3770d6",
   "metadata": {},
   "outputs": [
    {
     "data": {
      "text/plain": [
       "array([0.2325138, 0.1294286, 0.1294286, 0.1294286, 0.1294286])"
      ]
     },
     "execution_count": 34,
     "metadata": {},
     "output_type": "execute_result"
    }
   ],
   "source": [
    "train_scores[0]"
   ]
  },
  {
   "cell_type": "markdown",
   "id": "1f631b5f",
   "metadata": {},
   "source": [
    "The scores in the above vector represent the following:\n",
    "- Consider 10% of the training data\n",
    "- Split that 10% in five parts. \n",
    "- Run the training process in 4 of the 5 parts, evaluate in the 1 remaining part."
   ]
  },
  {
   "cell_type": "code",
   "execution_count": null,
   "id": "592b54fb",
   "metadata": {},
   "outputs": [],
   "source": [
    "train_scores"
   ]
  },
  {
   "cell_type": "code",
   "execution_count": 36,
   "id": "9dddb323",
   "metadata": {},
   "outputs": [
    {
     "data": {
      "text/html": [
       "<div>\n",
       "<style scoped>\n",
       "    .dataframe tbody tr th:only-of-type {\n",
       "        vertical-align: middle;\n",
       "    }\n",
       "\n",
       "    .dataframe tbody tr th {\n",
       "        vertical-align: top;\n",
       "    }\n",
       "\n",
       "    .dataframe thead th {\n",
       "        text-align: right;\n",
       "    }\n",
       "</style>\n",
       "<table border=\"1\" class=\"dataframe\">\n",
       "  <thead>\n",
       "    <tr style=\"text-align: right;\">\n",
       "      <th></th>\n",
       "      <th>danceability_%</th>\n",
       "      <th>valence_%</th>\n",
       "      <th>energy_%</th>\n",
       "      <th>acousticness_%</th>\n",
       "    </tr>\n",
       "  </thead>\n",
       "  <tbody>\n",
       "    <tr>\n",
       "      <th>danceability_%</th>\n",
       "      <td>1.000000</td>\n",
       "      <td>0.408451</td>\n",
       "      <td>0.198095</td>\n",
       "      <td>-0.236165</td>\n",
       "    </tr>\n",
       "    <tr>\n",
       "      <th>valence_%</th>\n",
       "      <td>0.408451</td>\n",
       "      <td>1.000000</td>\n",
       "      <td>0.357612</td>\n",
       "      <td>-0.081907</td>\n",
       "    </tr>\n",
       "    <tr>\n",
       "      <th>energy_%</th>\n",
       "      <td>0.198095</td>\n",
       "      <td>0.357612</td>\n",
       "      <td>1.000000</td>\n",
       "      <td>-0.577344</td>\n",
       "    </tr>\n",
       "    <tr>\n",
       "      <th>acousticness_%</th>\n",
       "      <td>-0.236165</td>\n",
       "      <td>-0.081907</td>\n",
       "      <td>-0.577344</td>\n",
       "      <td>1.000000</td>\n",
       "    </tr>\n",
       "  </tbody>\n",
       "</table>\n",
       "</div>"
      ],
      "text/plain": [
       "                danceability_%  valence_%  energy_%  acousticness_%\n",
       "danceability_%        1.000000   0.408451  0.198095       -0.236165\n",
       "valence_%             0.408451   1.000000  0.357612       -0.081907\n",
       "energy_%              0.198095   0.357612  1.000000       -0.577344\n",
       "acousticness_%       -0.236165  -0.081907 -0.577344        1.000000"
      ]
     },
     "execution_count": 36,
     "metadata": {},
     "output_type": "execute_result"
    }
   ],
   "source": [
    "X.corr()"
   ]
  },
  {
   "cell_type": "code",
   "execution_count": null,
   "id": "501a223c",
   "metadata": {},
   "outputs": [],
   "source": []
  }
 ],
 "metadata": {
  "kernelspec": {
   "display_name": "Python 3 (ipykernel)",
   "language": "python",
   "name": "python3"
  },
  "language_info": {
   "codemirror_mode": {
    "name": "ipython",
    "version": 3
   },
   "file_extension": ".py",
   "mimetype": "text/x-python",
   "name": "python",
   "nbconvert_exporter": "python",
   "pygments_lexer": "ipython3",
   "version": "3.10.12"
  }
 },
 "nbformat": 4,
 "nbformat_minor": 5
}
